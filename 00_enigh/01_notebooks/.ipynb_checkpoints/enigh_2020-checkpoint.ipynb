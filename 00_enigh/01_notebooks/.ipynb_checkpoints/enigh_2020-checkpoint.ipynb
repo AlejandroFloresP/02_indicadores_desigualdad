{
 "cells": [
  {
   "cell_type": "markdown",
   "id": "f0e630e5",
   "metadata": {},
   "source": [
    "# Calculo de principales indicadores usando python\n",
    "\n",
    "A continuación se presentan los coódigos para el cálculo de los principales indicadores de la ENIGH 2020. Estan escritos para que el usuario los ejecute sin necesidad de cambio.\n",
    "\n",
    "Para realizar este ejercicio solo seran necesatios los módulos de **pandas** y **numpy**"
   ]
  },
  {
   "cell_type": "markdown",
   "id": "91889c67",
   "metadata": {},
   "source": [
    "## Set-up"
   ]
  },
  {
   "cell_type": "code",
   "execution_count": 2,
   "id": "469903e6",
   "metadata": {},
   "outputs": [],
   "source": [
    "# Importamos librerias que vamos a utilizar\n",
    "import pandas as pd\n",
    "import os\n",
    "\n",
    "pd.options.display.float_format = '{:,.2f}'.format\n"
   ]
  },
  {
   "cell_type": "code",
   "execution_count": 3,
   "id": "0141fea9",
   "metadata": {},
   "outputs": [],
   "source": [
    "# Creamos directorios\n",
    "data = '/home/jovyan/work/02_indicadores_desigualdad/00_enigh/00_data/'\n",
    "outputs = '/home/jovyan/work/02_indicadores_desigualdad/00_enigh/03_outputs/'"
   ]
  },
  {
   "cell_type": "markdown",
   "id": "def88dbe",
   "metadata": {},
   "source": [
    "### Ejecutamos script con funciones necesarias"
   ]
  },
  {
   "cell_type": "code",
   "execution_count": 4,
   "id": "32160051",
   "metadata": {},
   "outputs": [],
   "source": [
    "%run 'functions.py' "
   ]
  },
  {
   "cell_type": "markdown",
   "id": "91fc6844",
   "metadata": {},
   "source": [
    "## Lectura de tablas de datos\n",
    "\n",
    "Para leer las tablas que necesitamos para el analisis, se creo una funcíon, **enigh**, que nos ayuda a traernos direcatmente de la pagina de la enigh la tabla del año que necesitemos, sin necesidad de guardar el arhivo en nuestro espacio de trabajo.\n",
    "\n",
    "En este ejercicio, tomaremos la tabla *concentrado hogar* del año *2020* y lo guardamos en un dataframe"
   ]
  },
  {
   "cell_type": "code",
   "execution_count": 5,
   "id": "6a910ebe",
   "metadata": {},
   "outputs": [],
   "source": [
    "df = enigh('concentradohogar','2020')"
   ]
  },
  {
   "cell_type": "markdown",
   "id": "ddc285de",
   "metadata": {},
   "source": [
    "___"
   ]
  },
  {
   "cell_type": "markdown",
   "id": "b9337eb6",
   "metadata": {},
   "source": [
    "## 2. Cálculo de indicadores de ingreso\n",
    "### 2.1. Ingreso corriente total promedio trimestral por hogar en deciiles de hogares y su coeficiente de GINI\n",
    "\n",
    "A continuación, se presenta el código que calcula el ingreso corriente total promedio por hogar en deciles de hogares y su coeficiente de GINI.\n",
    "El coeficiente de Gini es una medida de concentración del ingreso: toma valores entre cero y uno. Cuando el valor se acerca a uno, indica que hay mayor concentración del ingreso; en cambio cuando el valor del Gini se acerca a cero la concentración del ingreso es menor."
   ]
  },
  {
   "cell_type": "markdown",
   "id": "058fa956",
   "metadata": {},
   "source": [
    "<blockquote><div style=\"background-color:#DCDCDC; color:#000000; font-style: normal; font-family: Georgia;\">\n",
    "Folioviv (Folio de la vivienda):\n",
    "\n",
    "Consta de 10 dígitos: dos dígitos con la clave de la entidad federativa, uno con el ámbito (urbano, código diferente a 6; rural, código 6), cuatro dígitos del número consecutivo de la upm (unidad primaria de muestreo), un dígito de la decena de levantamiento y dos dígitos con un número consecutivo para la vivienda seleccionada.\n",
    "</div></blockquote>\n",
    "\n",
    "\n",
    "<blockquote><div style=\"background-color:#DCDCDC; color:#000000; font-style: normal; font-family: Georgia;\">\n",
    "Foliohog (Folio del hogar):\n",
    "\n",
    "Dígito para identificar a los hogares en la vivienda: se asigna 1 al hogar principal (el que inicialmente\n",
    "atendió la entrevista) o cuando en la vivienda solo habita un hogar; cuando se detecten varios hogares\n",
    "(hogares adicionales) se les asignan dígitos del 2 al 5.\n",
    "</div></blockquote>"
   ]
  },
  {
   "cell_type": "code",
   "execution_count": 6,
   "id": "22a079bf",
   "metadata": {},
   "outputs": [],
   "source": [
    "# Seleccionamos variables de interes\n",
    "\n",
    "concentrado = df[['folioviv', 'foliohog', 'ing_cor', 'ingtrab', 'trabajo',\n",
    "                  'negocio', 'otros_trab', 'rentas', 'utilidad', 'arrenda',\n",
    "                 'transfer', 'jubilacion', 'becas', 'donativos', 'remesas',\n",
    "                 'bene_gob', 'transf_hog', 'trans_inst', 'estim_alqu',\n",
    "                 'otros_ing', 'factor', 'upm', 'est_dis']]"
   ]
  },
  {
   "cell_type": "code",
   "execution_count": null,
   "id": "143d7561",
   "metadata": {},
   "outputs": [],
   "source": [
    "concentrado.info()"
   ]
  },
  {
   "cell_type": "code",
   "execution_count": 7,
   "id": "68b5d7e1",
   "metadata": {},
   "outputs": [
    {
     "name": "stderr",
     "output_type": "stream",
     "text": [
      "/opt/conda/lib/python3.9/site-packages/pandas/core/frame.py:3607: SettingWithCopyWarning: \n",
      "A value is trying to be set on a copy of a slice from a DataFrame.\n",
      "Try using .loc[row_indexer,col_indexer] = value instead\n",
      "\n",
      "See the caveats in the documentation: https://pandas.pydata.org/pandas-docs/stable/user_guide/indexing.html#returning-a-view-versus-a-copy\n",
      "  self._set_item(key, value)\n"
     ]
    }
   ],
   "source": [
    "# Se crea una variable de entidad federativa y de total de integrantes\n",
    "\n",
    "concentrado['entidad']=df.loc[:,('folioviv')].apply(str).str[1:3]\n",
    "concentrado['integrantes'] = df['tot_integ']* df['factor']"
   ]
  },
  {
   "cell_type": "code",
   "execution_count": 16,
   "id": "69d8586e",
   "metadata": {},
   "outputs": [
    {
     "name": "stdout",
     "output_type": "stream",
     "text": [
      "Total de Hogares:  35749659\n",
      "Tamaño de los deciles:  3574965.9\n",
      "Promedio de integrantes por familia: 3.55 \n"
     ]
    }
   ],
   "source": [
    "print('Total de Hogares: ', concentrado.factor.sum())\n",
    "\n",
    "print('Tamaño de los deciles: ',  concentrado.factor.sum()/10 )\n",
    "\n",
    "print('Promedio de integrantes por familia: {:.3} '.format(df.tot_integ.mean()))"
   ]
  },
  {
   "cell_type": "markdown",
   "id": "29a379c5",
   "metadata": {},
   "source": [
    "Para crear los deciles de ingreso, utilizamos la función *weighted_qcut* definida al inicio del notebook para obtener los deciles ponderados por el factor de expansión"
   ]
  },
  {
   "cell_type": "code",
   "execution_count": null,
   "id": "5ac76fe2",
   "metadata": {},
   "outputs": [],
   "source": [
    "concentrado['decil']=weighted_qcut(concentrado['ing_cor'], concentrado['factor'], 10, labels=False)"
   ]
  },
  {
   "cell_type": "code",
   "execution_count": null,
   "id": "28b44875",
   "metadata": {},
   "outputs": [],
   "source": [
    "concentrado.groupby(by='decil').agg({'ing_cor': ['sum','min', 'max'],\n",
    "                                    'integrantes': ['sum', 'mean']})"
   ]
  },
  {
   "cell_type": "code",
   "execution_count": null,
   "id": "0594d52e",
   "metadata": {},
   "outputs": [],
   "source": [
    "# Exportamos a excel\n",
    "# concentrado.groupby(by='decil').agg({'ing_cor': ['min', 'max']}).to_excel(outputs + 'data/deciles.xlsx')"
   ]
  }
 ],
 "metadata": {
  "kernelspec": {
   "display_name": "Python 3 (ipykernel)",
   "language": "python",
   "name": "python3"
  },
  "language_info": {
   "codemirror_mode": {
    "name": "ipython",
    "version": 3
   },
   "file_extension": ".py",
   "mimetype": "text/x-python",
   "name": "python",
   "nbconvert_exporter": "python",
   "pygments_lexer": "ipython3",
   "version": "3.9.5"
  }
 },
 "nbformat": 4,
 "nbformat_minor": 5
}
