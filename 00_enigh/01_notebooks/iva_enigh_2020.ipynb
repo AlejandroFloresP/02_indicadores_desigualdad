{
 "cells": [
  {
   "cell_type": "markdown",
   "id": "f0e630e5",
   "metadata": {},
   "source": [
    "# Calculo de principales indicadores usando python\n",
    "\n",
    "A continuación se presentan los coódigos para el cálculo de los principales indicadores de la ENIGH 2020. Estan escritos para que el usuario los ejecute sin necesidad de cambio.\n",
    "\n",
    "Para realizar este ejercicio solo seran necesatios los módulos de **pandas** y **numpy**"
   ]
  },
  {
   "cell_type": "markdown",
   "id": "91889c67",
   "metadata": {},
   "source": [
    "## Set-up"
   ]
  },
  {
   "cell_type": "code",
   "execution_count": 2,
   "id": "469903e6",
   "metadata": {},
   "outputs": [],
   "source": [
    "# Importamos librerias que vamos a utilizar\n",
    "import pandas as pd\n",
    "import matplotlib.pyplot as plt\n",
    "import os\n",
    "\n",
    "pd.options.display.float_format = '{:,.2f}'.format"
   ]
  },
  {
   "cell_type": "code",
   "execution_count": 3,
   "id": "0141fea9",
   "metadata": {},
   "outputs": [],
   "source": [
    "# Creamos directorios\n",
    "data = '/home/jovyan/work/02_indicadores_desigualdad/00_enigh/00_data/'\n",
    "outputs = '/home/jovyan/work/02_indicadores_desigualdad/00_enigh/03_outputs/'"
   ]
  },
  {
   "cell_type": "markdown",
   "id": "def88dbe",
   "metadata": {},
   "source": [
    "### Ejecutamos script con funciones necesarias"
   ]
  },
  {
   "cell_type": "code",
   "execution_count": 4,
   "id": "32160051",
   "metadata": {},
   "outputs": [],
   "source": [
    "%run 'functions.py' "
   ]
  },
  {
   "cell_type": "markdown",
   "id": "91fc6844",
   "metadata": {},
   "source": [
    "## Lectura de tablas de datos\n",
    "\n",
    "Para leer las tablas que necesitamos para el analisis, se creo una funcíon, **enigh**, que nos ayuda a traernos direcatmente de la pagina de la enigh la tabla del año que necesitemos, sin necesidad de guardar el arhivo en nuestro espacio de trabajo.\n",
    "\n",
    "En este ejercicio, tomaremos la tabla *concentrado hogar* del año *2020* y lo guardamos en un dataframe"
   ]
  },
  {
   "cell_type": "code",
   "execution_count": 5,
   "id": "6a910ebe",
   "metadata": {},
   "outputs": [],
   "source": [
    "df = enigh('concentradohogar','2020')"
   ]
  },
  {
   "cell_type": "markdown",
   "id": "ddc285de",
   "metadata": {},
   "source": [
    "___"
   ]
  },
  {
   "cell_type": "markdown",
   "id": "b9337eb6",
   "metadata": {},
   "source": [
    "## 2. Cálculo de indicadores de ingreso\n",
    "### 2.1. Ingreso corriente total promedio trimestral por hogar en deciiles de hogares y su coeficiente de GINI\n",
    "\n",
    "A continuación, se presenta el código que calcula el ingreso corriente total promedio por hogar en deciles de hogares y su coeficiente de GINI.\n",
    "El coeficiente de Gini es una medida de concentración del ingreso: toma valores entre cero y uno. Cuando el valor se acerca a uno, indica que hay mayor concentración del ingreso; en cambio cuando el valor del Gini se acerca a cero la concentración del ingreso es menor."
   ]
  },
  {
   "cell_type": "markdown",
   "id": "058fa956",
   "metadata": {},
   "source": [
    "<blockquote><div style=\"background-color:#DCDCDC; color:#000000; font-style: normal; font-family: Georgia;\">\n",
    "Folioviv (Folio de la vivienda):\n",
    "\n",
    "Consta de 10 dígitos: dos dígitos con la clave de la entidad federativa, uno con el ámbito (urbano, código diferente a 6; rural, código 6), cuatro dígitos del número consecutivo de la upm (unidad primaria de muestreo), un dígito de la decena de levantamiento y dos dígitos con un número consecutivo para la vivienda seleccionada.\n",
    "</div></blockquote>\n",
    "\n",
    "\n",
    "<blockquote><div style=\"background-color:#DCDCDC; color:#000000; font-style: normal; font-family: Georgia;\">\n",
    "Foliohog (Folio del hogar):\n",
    "\n",
    "Dígito para identificar a los hogares en la vivienda: se asigna 1 al hogar principal (el que inicialmente\n",
    "atendió la entrevista) o cuando en la vivienda solo habita un hogar; cuando se detecten varios hogares\n",
    "(hogares adicionales) se les asignan dígitos del 2 al 5.\n",
    "</div></blockquote>"
   ]
  },
  {
   "cell_type": "raw",
   "id": "0a4f2497",
   "metadata": {},
   "source": [
    "# Seleccionamos variables de interes\n",
    "\n",
    "concentrado = df[['folioviv', 'foliohog', 'ing_cor', 'ingtrab', 'trabajo',\n",
    "                  'negocio', 'otros_trab', 'rentas', 'utilidad', 'arrenda',\n",
    "                 'transfer', 'jubilacion', 'becas', 'donativos', 'remesas',\n",
    "                 'bene_gob', 'transf_hog', 'trans_inst', 'estim_alqu',\n",
    "                 'otros_ing', 'factor', 'upm', 'est_dis']]"
   ]
  },
  {
   "cell_type": "code",
   "execution_count": null,
   "id": "69d8586e",
   "metadata": {},
   "outputs": [],
   "source": [
    "print('Total de Hogares: ', df.factor.sum())\n",
    "\n",
    "print('Tamaño de los deciles: ',  df.factor.sum()/10 )\n",
    "\n",
    "print('Promedio de integrantes por familia: {:.3} '.format(df.tot_integ.mean()))"
   ]
  },
  {
   "cell_type": "markdown",
   "id": "3c2cf9bb",
   "metadata": {},
   "source": [
    "#### Analisis de carga fiscal en los hogares\n",
    "Queremos analizar la carga fiscal de los hogares, haremos una aproximación del cuanto pagan los hogares de IVA por decil, excluyendo alimentos que tienen tasa 0:\n",
    "* foliovivi: folio de vivienda\n",
    "* foliohog: folio hogar \n",
    "* ing_cor: Suma de los ingresos por trabajo, los provenientes de rentas, de transferencias, de estimación del alquiler y de otros ingresos.\n",
    "* gasto_mon: Es la suma de los gastos regulares que directamente hacen los hogares en bienes y servicios para su consumo.\n",
    "    * suma de alimentos, vesti_calz, vivienda, limpieza, salud, transporte, educa_espa y transf_gas\n",
    "* alimentos: gasto en alimentos dentro y fuera del hogar\n",
    "    * Alimentos excentos de IVA: carnes, pescado, leche, huevo, tuberculo, verduras y frutas\n",
    "* vesti_calz: gasto en vestido y calzado\n",
    "* vivienda: Gasto en vivienda, servicios de conservación, energía eléctrica y combustibles\n",
    "    * La suma de alquiler, pred_cons, agua y energia\n",
    "* limpieza: Gasto en artículos y servicios para la limpieza, cuidados de la casa, enseres domésticos y muebles, cristalería, utensilios domésticos y blancos.\n",
    "    * La suma de cuidados, utensilios y enseres\n",
    "* salud: Gasto en cuidados de la salud.\n",
    "    * Gasto en cuidados de la salud.\n",
    "    * Conceptos excentos de pagar IVA: medicina \n",
    "* transporte:\n",
    "    * Concepto excento de pagar IVA: transporte público\n",
    "* educa_espa: Gasto en servicios de educación, artículos educativos, artículos de esparcimiento y otros gastos esparcimiento.\n",
    "    * La suma de educacion, esparci y paq_turist."
   ]
  },
  {
   "cell_type": "code",
   "execution_count": 6,
   "id": "8e475e3e",
   "metadata": {},
   "outputs": [],
   "source": [
    "# Seleccionamos variables de interes para análisis\n",
    "concentrado = df[['ing_cor', 'gasto_mon', 'alimentos', 'vesti_calz', 'vivienda', 'limpieza', 'salud', 'transporte', \n",
    "                  'educa_espa', 'personales','transf_gas', 'carnes', 'pescado', 'leche','huevo', 'tuberculo', 'verduras',\n",
    "                  'frutas', 'medicinas', 'publico','factor']]"
   ]
  },
  {
   "cell_type": "code",
   "execution_count": 7,
   "id": "5ac76fe2",
   "metadata": {},
   "outputs": [
    {
     "name": "stderr",
     "output_type": "stream",
     "text": [
      "/opt/conda/lib/python3.9/site-packages/pandas/core/frame.py:3607: SettingWithCopyWarning: \n",
      "A value is trying to be set on a copy of a slice from a DataFrame.\n",
      "Try using .loc[row_indexer,col_indexer] = value instead\n",
      "\n",
      "See the caveats in the documentation: https://pandas.pydata.org/pandas-docs/stable/user_guide/indexing.html#returning-a-view-versus-a-copy\n",
      "  self._set_item(key, value)\n"
     ]
    }
   ],
   "source": [
    "concentrado['decil']=weighted_qcut(concentrado['ing_cor'], concentrado['factor'], 10, labels=False)"
   ]
  },
  {
   "cell_type": "markdown",
   "id": "ffc9c180",
   "metadata": {},
   "source": [
    "Una vez que creamos el dataframe con las variables que vamos a utilizar, tenemos que restar a gasto monerario corriente (gasto_mon) las variables de los conceptos excentos de iva.\n",
    "\n",
    "Y para finalizar, vamos a multiplicar las variables por el factor de expansión para tener valores nacionales."
   ]
  },
  {
   "cell_type": "code",
   "execution_count": 8,
   "id": "327b66fe",
   "metadata": {},
   "outputs": [],
   "source": [
    "concentrado['gasto_final'] = concentrado['gasto_mon']\n",
    "\n",
    "# Lista para quitar del gasto monetario corriente total\n",
    "exc= ['carnes', 'pescado', 'leche','huevo', 'tuberculo', 'verduras', 'frutas', 'medicinas', 'publico', 'transf_gas']\n",
    "\n",
    "for var in exc:\n",
    "    concentrado['gasto_final'] = concentrado['gasto_final'] - concentrado[var]"
   ]
  },
  {
   "cell_type": "code",
   "execution_count": 9,
   "id": "eed1cd4d",
   "metadata": {},
   "outputs": [],
   "source": [
    "# lista para quitar del concepto alimentos\n",
    "exc1= ['carnes', 'pescado', 'leche','huevo', 'tuberculo', 'verduras', 'frutas']\n",
    "\n",
    "for var in exc1:\n",
    "    concentrado['alimentos'] = concentrado.loc[:,'alimentos'] - concentrado.loc[:,var]\n",
    "\n",
    "# Quitamos conceptos a salud\n",
    "concentrado['salud'] = concentrado['salud'] - concentrado['medicinas']\n",
    "\n",
    "# Quitamos conceptos a transporte\n",
    "concentrado['transporte'] = concentrado['transporte'] - concentrado['publico']"
   ]
  },
  {
   "cell_type": "code",
   "execution_count": 10,
   "id": "68b5d7e1",
   "metadata": {},
   "outputs": [],
   "source": [
    "# Se crea una variable de entidad federativa y de total de integrantes\n",
    "ls=['ing_cor', 'gasto_mon', 'gasto_final','alimentos', 'vesti_calz', 'vivienda', 'limpieza', 'salud', 'transporte', \n",
    "    'educa_espa', 'personales', 'transf_gas']\n",
    "\n",
    "for var in ls:\n",
    "    concentrado[var]= concentrado[var]*concentrado['factor']\n",
    "\n",
    "concentrado['integrantes']= df['tot_integ']*concentrado['factor']\n",
    "# concentrado['entidad']=df.loc[:,('folioviv')].apply(str).str[1:3]"
   ]
  },
  {
   "cell_type": "markdown",
   "id": "29a379c5",
   "metadata": {},
   "source": [
    "Para crear los deciles de ingreso, utilizamos la función *weighted_qcut* definida al inicio del notebook para obtener los deciles ponderados por el factor de expansión"
   ]
  },
  {
   "cell_type": "code",
   "execution_count": 11,
   "id": "a24057db",
   "metadata": {},
   "outputs": [],
   "source": [
    "deciles_final=concentrado[['decil','ing_cor','gasto_mon','gasto_final', 'alimentos', 'salud', 'transporte', 'vesti_calz', \n",
    "             'limpieza', 'vivienda','educa_espa','personales']].groupby(by='decil').sum()"
   ]
  },
  {
   "cell_type": "code",
   "execution_count": 31,
   "id": "e9dc9efd",
   "metadata": {},
   "outputs": [],
   "source": [
    "deciles_final.to_excel(outputs + 'data/deciles_desagregado.xlsx')"
   ]
  },
  {
   "cell_type": "code",
   "execution_count": 12,
   "id": "b7f84d8a",
   "metadata": {},
   "outputs": [],
   "source": [
    "deciles_final['total_decil']=deciles_final[['alimentos', 'salud', 'transporte', 'vesti_calz', 'limpieza', 'vivienda', \n",
    "                                            'educa_espa','personales']].sum(axis=1)"
   ]
  },
  {
   "cell_type": "code",
   "execution_count": 13,
   "id": "80b9ae8e",
   "metadata": {},
   "outputs": [],
   "source": [
    "a = (deciles_final['alimentos']/deciles_final['total_decil'])*100\n",
    "b = (deciles_final['salud']/deciles_final['total_decil'])*100\n",
    "\n",
    "test=pd.concat([a,b], axis=1)"
   ]
  },
  {
   "cell_type": "code",
   "execution_count": 1,
   "id": "7bd758d1",
   "metadata": {},
   "outputs": [
    {
     "ename": "NameError",
     "evalue": "name 'test' is not defined",
     "output_type": "error",
     "traceback": [
      "\u001b[0;31m---------------------------------------------------------------------------\u001b[0m",
      "\u001b[0;31mNameError\u001b[0m                                 Traceback (most recent call last)",
      "\u001b[0;32m/tmp/ipykernel_32/3858905554.py\u001b[0m in \u001b[0;36m<module>\u001b[0;34m\u001b[0m\n\u001b[0;32m----> 1\u001b[0;31m \u001b[0mtest\u001b[0m\u001b[0;34m.\u001b[0m\u001b[0mplot\u001b[0m\u001b[0;34m(\u001b[0m\u001b[0mkind\u001b[0m\u001b[0;34m=\u001b[0m\u001b[0;34m\"bar\"\u001b[0m\u001b[0;34m,\u001b[0m\u001b[0mstacked\u001b[0m\u001b[0;34m=\u001b[0m\u001b[0;32mTrue\u001b[0m\u001b[0;34m,\u001b[0m\u001b[0mfigsize\u001b[0m\u001b[0;34m=\u001b[0m\u001b[0;34m(\u001b[0m\u001b[0;36m10\u001b[0m\u001b[0;34m,\u001b[0m\u001b[0;36m8\u001b[0m\u001b[0;34m)\u001b[0m\u001b[0;34m)\u001b[0m\u001b[0;34m\u001b[0m\u001b[0;34m\u001b[0m\u001b[0m\n\u001b[0m\u001b[1;32m      2\u001b[0m \u001b[0mplt\u001b[0m\u001b[0;34m.\u001b[0m\u001b[0mlegend\u001b[0m\u001b[0;34m(\u001b[0m\u001b[0mloc\u001b[0m\u001b[0;34m=\u001b[0m\u001b[0;34m\"lower left\"\u001b[0m\u001b[0;34m)\u001b[0m\u001b[0;34m\u001b[0m\u001b[0;34m\u001b[0m\u001b[0m\n\u001b[1;32m      3\u001b[0m \u001b[0mplt\u001b[0m\u001b[0;34m.\u001b[0m\u001b[0mshow\u001b[0m\u001b[0;34m(\u001b[0m\u001b[0;34m)\u001b[0m\u001b[0;34m\u001b[0m\u001b[0;34m\u001b[0m\u001b[0m\n",
      "\u001b[0;31mNameError\u001b[0m: name 'test' is not defined"
     ]
    }
   ],
   "source": [
    "test.plot(kind=\"bar\",stacked=True,figsize=(10,8))\n",
    "plt.legend(loc=\"lower left\",bbox_to_anchor=(0.8,1.0))\n",
    "plt.show()"
   ]
  }
 ],
 "metadata": {
  "kernelspec": {
   "display_name": "Python 3 (ipykernel)",
   "language": "python",
   "name": "python3"
  },
  "language_info": {
   "codemirror_mode": {
    "name": "ipython",
    "version": 3
   },
   "file_extension": ".py",
   "mimetype": "text/x-python",
   "name": "python",
   "nbconvert_exporter": "python",
   "pygments_lexer": "ipython3",
   "version": "3.9.5"
  }
 },
 "nbformat": 4,
 "nbformat_minor": 5
}
