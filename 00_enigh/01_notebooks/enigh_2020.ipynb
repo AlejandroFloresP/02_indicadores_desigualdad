{
 "cells": [
  {
   "cell_type": "markdown",
   "id": "f0e630e5",
   "metadata": {},
   "source": [
    "# Calculo de principales indicadores usando python\n",
    "\n",
    "A continuación se presentan los coódigos para el cálculo de los principales indicadores de la ENIGH 2020. Estan escritos para que el usuario los ejecute sin necesidad de cambio.\n",
    "\n",
    "Para realizar este ejercicio solo seran necesatios los módulos de **pandas** y **numpy**"
   ]
  },
  {
   "cell_type": "markdown",
   "id": "91889c67",
   "metadata": {},
   "source": [
    "## Set-up"
   ]
  },
  {
   "cell_type": "code",
   "execution_count": 1,
   "id": "469903e6",
   "metadata": {},
   "outputs": [],
   "source": [
    "# Importamos librerias que vamos a utilizar\n",
    "import pandas as pd\n",
    "import matplotlib.pyplot as plt\n",
    "import os\n",
    "\n",
    "pd.options.display.float_format = '{:,.2f}'.format"
   ]
  },
  {
   "cell_type": "code",
   "execution_count": 2,
   "id": "0141fea9",
   "metadata": {},
   "outputs": [],
   "source": [
    "# Creamos directorios\n",
    "data = '/home/jovyan/work/02_indicadores_desigualdad/00_enigh/00_data/'\n",
    "outputs = '/home/jovyan/work/02_indicadores_desigualdad/00_enigh/03_outputs/'"
   ]
  },
  {
   "cell_type": "markdown",
   "id": "def88dbe",
   "metadata": {},
   "source": [
    "### Ejecutamos script con funciones necesarias"
   ]
  },
  {
   "cell_type": "code",
   "execution_count": 3,
   "id": "32160051",
   "metadata": {},
   "outputs": [],
   "source": [
    "%run 'functions.py' "
   ]
  },
  {
   "cell_type": "markdown",
   "id": "91fc6844",
   "metadata": {},
   "source": [
    "## Lectura de tablas de datos\n",
    "\n",
    "Para leer las tablas que necesitamos para el analisis, se creo una funcíon, **enigh**, que nos ayuda a traernos direcatmente de la pagina de la enigh la tabla del año que necesitemos, sin necesidad de guardar el arhivo en nuestro espacio de trabajo.\n",
    "\n",
    "En este ejercicio, tomaremos la tabla *concentrado hogar* del año *2020* y lo guardamos en un dataframe"
   ]
  },
  {
   "cell_type": "code",
   "execution_count": 4,
   "id": "6a910ebe",
   "metadata": {},
   "outputs": [],
   "source": [
    "df = enigh('concentradohogar','2020')"
   ]
  },
  {
   "cell_type": "markdown",
   "id": "ddc285de",
   "metadata": {},
   "source": [
    "___"
   ]
  },
  {
   "cell_type": "markdown",
   "id": "b9337eb6",
   "metadata": {},
   "source": [
    "## 2. Cálculo de indicadores de ingreso\n",
    "### 2.1. Ingreso corriente total promedio trimestral por hogar en deciiles de hogares y su coeficiente de GINI\n",
    "\n",
    "A continuación, se presenta el código que calcula el ingreso corriente total promedio por hogar en deciles de hogares y su coeficiente de GINI.\n",
    "El coeficiente de Gini es una medida de concentración del ingreso: toma valores entre cero y uno. Cuando el valor se acerca a uno, indica que hay mayor concentración del ingreso; en cambio cuando el valor del Gini se acerca a cero la concentración del ingreso es menor."
   ]
  },
  {
   "cell_type": "markdown",
   "id": "058fa956",
   "metadata": {},
   "source": [
    "<blockquote><div style=\"background-color:#DCDCDC; color:#000000; font-style: normal; font-family: Georgia;\">\n",
    "Folioviv (Folio de la vivienda):\n",
    "\n",
    "Consta de 10 dígitos: dos dígitos con la clave de la entidad federativa, uno con el ámbito (urbano, código diferente a 6; rural, código 6), cuatro dígitos del número consecutivo de la upm (unidad primaria de muestreo), un dígito de la decena de levantamiento y dos dígitos con un número consecutivo para la vivienda seleccionada.\n",
    "</div></blockquote>\n",
    "\n",
    "\n",
    "<blockquote><div style=\"background-color:#DCDCDC; color:#000000; font-style: normal; font-family: Georgia;\">\n",
    "Foliohog (Folio del hogar):\n",
    "\n",
    "Dígito para identificar a los hogares en la vivienda: se asigna 1 al hogar principal (el que inicialmente\n",
    "atendió la entrevista) o cuando en la vivienda solo habita un hogar; cuando se detecten varios hogares\n",
    "(hogares adicionales) se les asignan dígitos del 2 al 5.\n",
    "</div></blockquote>"
   ]
  },
  {
   "cell_type": "code",
   "execution_count": 5,
   "id": "87d7df99",
   "metadata": {},
   "outputs": [],
   "source": [
    "# Seleccionamos variables de interes\n",
    "\n",
    "concentrado = df[['folioviv', 'foliohog', 'ing_cor', 'ingtrab', 'trabajo',\n",
    "                  'negocio', 'otros_trab', 'rentas', 'utilidad', 'arrenda',\n",
    "                 'transfer', 'jubilacion', 'becas', 'donativos', 'remesas',\n",
    "                 'bene_gob', 'transf_hog', 'trans_inst', 'estim_alqu',\n",
    "                 'otros_ing', 'factor', 'upm', 'est_dis']]"
   ]
  },
  {
   "cell_type": "markdown",
   "id": "651f7f26",
   "metadata": {},
   "source": [
    "###### Calculamos algunos números rapidos"
   ]
  },
  {
   "cell_type": "code",
   "execution_count": 6,
   "id": "69d8586e",
   "metadata": {},
   "outputs": [
    {
     "name": "stdout",
     "output_type": "stream",
     "text": [
      "Total de Hogares:  35749659\n",
      "Tamaño de los deciles:  3574965.9\n",
      "Promedio de integrantes por familia: 3.55 \n"
     ]
    }
   ],
   "source": [
    "print('Total de Hogares: ', df.factor.sum())\n",
    "\n",
    "print('Tamaño de los deciles: ',  df.factor.sum()/10 )\n",
    "\n",
    "print('Promedio de integrantes por familia: {:.3} '.format(df.tot_integ.mean()))"
   ]
  },
  {
   "cell_type": "markdown",
   "id": "29a379c5",
   "metadata": {},
   "source": [
    "Para crear los deciles de ingreso, utilizamos la función *weighted_qcut* definida al inicio del notebook para obtener los deciles ponderados por el factor de expansión"
   ]
  },
  {
   "cell_type": "code",
   "execution_count": 7,
   "id": "5ac76fe2",
   "metadata": {},
   "outputs": [
    {
     "name": "stderr",
     "output_type": "stream",
     "text": [
      "/opt/conda/lib/python3.9/site-packages/pandas/core/frame.py:3607: SettingWithCopyWarning: \n",
      "A value is trying to be set on a copy of a slice from a DataFrame.\n",
      "Try using .loc[row_indexer,col_indexer] = value instead\n",
      "\n",
      "See the caveats in the documentation: https://pandas.pydata.org/pandas-docs/stable/user_guide/indexing.html#returning-a-view-versus-a-copy\n",
      "  self._set_item(key, value)\n"
     ]
    }
   ],
   "source": [
    "concentrado['decil']=weighted_qcut(concentrado['ing_cor'], concentrado['factor'], 10, labels=False)"
   ]
  },
  {
   "cell_type": "markdown",
   "id": "ffc9c180",
   "metadata": {},
   "source": [
    "Una vez que creamos el dataframe con las variables que vamos a utilizar, tenemos que restar a gasto monerario corriente (gasto_mon) las variables de los conceptos excentos de iva.\n",
    "\n",
    "Y para finalizar, vamos a multiplicar las variables por el factor de expansión para tener valores nacionales."
   ]
  },
  {
   "cell_type": "code",
   "execution_count": 8,
   "id": "68b5d7e1",
   "metadata": {},
   "outputs": [],
   "source": [
    "# Se crea una variable de entidad federativa y de total de integrantes\n",
    "\n",
    "concentrado['integrantes']= df['tot_integ']*concentrado['factor']\n",
    "concentrado['entidad']=df.loc[:,('folioviv')].apply(str).str[1:3]"
   ]
  },
  {
   "cell_type": "markdown",
   "id": "9c4ca35c",
   "metadata": {},
   "source": [
    "###### Total de hogares"
   ]
  },
  {
   "cell_type": "code",
   "execution_count": 33,
   "id": "3c838948",
   "metadata": {},
   "outputs": [
    {
     "ename": "KeyError",
     "evalue": "'decil'",
     "output_type": "error",
     "traceback": [
      "\u001b[0;31m---------------------------------------------------------------------------\u001b[0m",
      "\u001b[0;31mKeyError\u001b[0m                                  Traceback (most recent call last)",
      "\u001b[0;32m/tmp/ipykernel_48/3385361249.py\u001b[0m in \u001b[0;36m<module>\u001b[0;34m\u001b[0m\n\u001b[0;32m----> 1\u001b[0;31m \u001b[0;34m(\u001b[0m\u001b[0mconcentrado\u001b[0m\u001b[0;34m[\u001b[0m\u001b[0;34m'ing_cor'\u001b[0m\u001b[0;34m]\u001b[0m\u001b[0;34m*\u001b[0m\u001b[0mconcentrado\u001b[0m\u001b[0;34m[\u001b[0m\u001b[0;34m'factor'\u001b[0m\u001b[0;34m]\u001b[0m\u001b[0;34m.\u001b[0m\u001b[0msum\u001b[0m\u001b[0;34m(\u001b[0m\u001b[0;34m)\u001b[0m\u001b[0;34m)\u001b[0m\u001b[0;34m.\u001b[0m\u001b[0mgroupby\u001b[0m\u001b[0;34m(\u001b[0m\u001b[0mby\u001b[0m\u001b[0;34m=\u001b[0m\u001b[0;34m'decil'\u001b[0m\u001b[0;34m)\u001b[0m\u001b[0;34m\u001b[0m\u001b[0;34m\u001b[0m\u001b[0m\n\u001b[0m\u001b[1;32m      2\u001b[0m \u001b[0;31m# /concentrado.factor.sum()\u001b[0m\u001b[0;34m\u001b[0m\u001b[0;34m\u001b[0m\u001b[0;34m\u001b[0m\u001b[0m\n",
      "\u001b[0;32m/opt/conda/lib/python3.9/site-packages/pandas/core/series.py\u001b[0m in \u001b[0;36mgroupby\u001b[0;34m(self, by, axis, level, as_index, sort, group_keys, squeeze, observed, dropna)\u001b[0m\n\u001b[1;32m   1881\u001b[0m         \u001b[0;31m# error: Argument \"squeeze\" to \"SeriesGroupBy\" has incompatible type\u001b[0m\u001b[0;34m\u001b[0m\u001b[0;34m\u001b[0m\u001b[0;34m\u001b[0m\u001b[0m\n\u001b[1;32m   1882\u001b[0m         \u001b[0;31m# \"Union[bool, NoDefault]\"; expected \"bool\"\u001b[0m\u001b[0;34m\u001b[0m\u001b[0;34m\u001b[0m\u001b[0;34m\u001b[0m\u001b[0m\n\u001b[0;32m-> 1883\u001b[0;31m         return SeriesGroupBy(\n\u001b[0m\u001b[1;32m   1884\u001b[0m             \u001b[0mobj\u001b[0m\u001b[0;34m=\u001b[0m\u001b[0mself\u001b[0m\u001b[0;34m,\u001b[0m\u001b[0;34m\u001b[0m\u001b[0;34m\u001b[0m\u001b[0m\n\u001b[1;32m   1885\u001b[0m             \u001b[0mkeys\u001b[0m\u001b[0;34m=\u001b[0m\u001b[0mby\u001b[0m\u001b[0;34m,\u001b[0m\u001b[0;34m\u001b[0m\u001b[0;34m\u001b[0m\u001b[0m\n",
      "\u001b[0;32m/opt/conda/lib/python3.9/site-packages/pandas/core/groupby/groupby.py\u001b[0m in \u001b[0;36m__init__\u001b[0;34m(self, obj, keys, axis, level, grouper, exclusions, selection, as_index, sort, group_keys, squeeze, observed, mutated, dropna)\u001b[0m\n\u001b[1;32m    886\u001b[0m             \u001b[0;32mfrom\u001b[0m \u001b[0mpandas\u001b[0m\u001b[0;34m.\u001b[0m\u001b[0mcore\u001b[0m\u001b[0;34m.\u001b[0m\u001b[0mgroupby\u001b[0m\u001b[0;34m.\u001b[0m\u001b[0mgrouper\u001b[0m \u001b[0;32mimport\u001b[0m \u001b[0mget_grouper\u001b[0m\u001b[0;34m\u001b[0m\u001b[0;34m\u001b[0m\u001b[0m\n\u001b[1;32m    887\u001b[0m \u001b[0;34m\u001b[0m\u001b[0m\n\u001b[0;32m--> 888\u001b[0;31m             grouper, exclusions, obj = get_grouper(\n\u001b[0m\u001b[1;32m    889\u001b[0m                 \u001b[0mobj\u001b[0m\u001b[0;34m,\u001b[0m\u001b[0;34m\u001b[0m\u001b[0;34m\u001b[0m\u001b[0m\n\u001b[1;32m    890\u001b[0m                 \u001b[0mkeys\u001b[0m\u001b[0;34m,\u001b[0m\u001b[0;34m\u001b[0m\u001b[0;34m\u001b[0m\u001b[0m\n",
      "\u001b[0;32m/opt/conda/lib/python3.9/site-packages/pandas/core/groupby/grouper.py\u001b[0m in \u001b[0;36mget_grouper\u001b[0;34m(obj, key, axis, level, sort, observed, mutated, validate, dropna)\u001b[0m\n\u001b[1;32m    858\u001b[0m                 \u001b[0min_axis\u001b[0m\u001b[0;34m,\u001b[0m \u001b[0mlevel\u001b[0m\u001b[0;34m,\u001b[0m \u001b[0mgpr\u001b[0m \u001b[0;34m=\u001b[0m \u001b[0;32mFalse\u001b[0m\u001b[0;34m,\u001b[0m \u001b[0mgpr\u001b[0m\u001b[0;34m,\u001b[0m \u001b[0;32mNone\u001b[0m\u001b[0;34m\u001b[0m\u001b[0;34m\u001b[0m\u001b[0m\n\u001b[1;32m    859\u001b[0m             \u001b[0;32melse\u001b[0m\u001b[0;34m:\u001b[0m\u001b[0;34m\u001b[0m\u001b[0;34m\u001b[0m\u001b[0m\n\u001b[0;32m--> 860\u001b[0;31m                 \u001b[0;32mraise\u001b[0m \u001b[0mKeyError\u001b[0m\u001b[0;34m(\u001b[0m\u001b[0mgpr\u001b[0m\u001b[0;34m)\u001b[0m\u001b[0;34m\u001b[0m\u001b[0;34m\u001b[0m\u001b[0m\n\u001b[0m\u001b[1;32m    861\u001b[0m         \u001b[0;32melif\u001b[0m \u001b[0misinstance\u001b[0m\u001b[0;34m(\u001b[0m\u001b[0mgpr\u001b[0m\u001b[0;34m,\u001b[0m \u001b[0mGrouper\u001b[0m\u001b[0;34m)\u001b[0m \u001b[0;32mand\u001b[0m \u001b[0mgpr\u001b[0m\u001b[0;34m.\u001b[0m\u001b[0mkey\u001b[0m \u001b[0;32mis\u001b[0m \u001b[0;32mnot\u001b[0m \u001b[0;32mNone\u001b[0m\u001b[0;34m:\u001b[0m\u001b[0;34m\u001b[0m\u001b[0;34m\u001b[0m\u001b[0m\n\u001b[1;32m    862\u001b[0m             \u001b[0;31m# Add key to exclusions\u001b[0m\u001b[0;34m\u001b[0m\u001b[0;34m\u001b[0m\u001b[0;34m\u001b[0m\u001b[0m\n",
      "\u001b[0;31mKeyError\u001b[0m: 'decil'"
     ]
    }
   ],
   "source": [
    "(concentrado['ing_cor']*concentrado['factor'].sum()).groupby(by='decil')\n",
    "# /concentrado.factor.sum()"
   ]
  },
  {
   "cell_type": "code",
   "execution_count": 23,
   "id": "a24057db",
   "metadata": {},
   "outputs": [
    {
     "data": {
      "text/html": [
       "<div>\n",
       "<style scoped>\n",
       "    .dataframe tbody tr th:only-of-type {\n",
       "        vertical-align: middle;\n",
       "    }\n",
       "\n",
       "    .dataframe tbody tr th {\n",
       "        vertical-align: top;\n",
       "    }\n",
       "\n",
       "    .dataframe thead tr th {\n",
       "        text-align: left;\n",
       "    }\n",
       "\n",
       "    .dataframe thead tr:last-of-type th {\n",
       "        text-align: right;\n",
       "    }\n",
       "</style>\n",
       "<table border=\"1\" class=\"dataframe\">\n",
       "  <thead>\n",
       "    <tr>\n",
       "      <th></th>\n",
       "      <th colspan=\"4\" halign=\"left\">ing_cor</th>\n",
       "    </tr>\n",
       "    <tr>\n",
       "      <th></th>\n",
       "      <th>sum</th>\n",
       "      <th>mean</th>\n",
       "      <th>min</th>\n",
       "      <th>max</th>\n",
       "    </tr>\n",
       "    <tr>\n",
       "      <th>decil</th>\n",
       "      <th></th>\n",
       "      <th></th>\n",
       "      <th></th>\n",
       "      <th></th>\n",
       "    </tr>\n",
       "  </thead>\n",
       "  <tbody>\n",
       "    <tr>\n",
       "      <th>0</th>\n",
       "      <td>95,098,660.47</td>\n",
       "      <td>9,911.27</td>\n",
       "      <td>0.00</td>\n",
       "      <td>13,955.40</td>\n",
       "    </tr>\n",
       "    <tr>\n",
       "      <th>1</th>\n",
       "      <td>161,067,415.31</td>\n",
       "      <td>16,888.69</td>\n",
       "      <td>13,955.50</td>\n",
       "      <td>19,665.67</td>\n",
       "    </tr>\n",
       "    <tr>\n",
       "      <th>2</th>\n",
       "      <td>205,662,374.23</td>\n",
       "      <td>22,260.24</td>\n",
       "      <td>19,666.25</td>\n",
       "      <td>24,885.24</td>\n",
       "    </tr>\n",
       "    <tr>\n",
       "      <th>3</th>\n",
       "      <td>248,423,474.86</td>\n",
       "      <td>27,565.85</td>\n",
       "      <td>24,885.24</td>\n",
       "      <td>30,325.61</td>\n",
       "    </tr>\n",
       "    <tr>\n",
       "      <th>4</th>\n",
       "      <td>302,578,396.92</td>\n",
       "      <td>33,364.03</td>\n",
       "      <td>30,326.07</td>\n",
       "      <td>36,623.02</td>\n",
       "    </tr>\n",
       "    <tr>\n",
       "      <th>5</th>\n",
       "      <td>350,460,356.82</td>\n",
       "      <td>40,112.21</td>\n",
       "      <td>36,623.84</td>\n",
       "      <td>44,016.79</td>\n",
       "    </tr>\n",
       "    <tr>\n",
       "      <th>6</th>\n",
       "      <td>431,648,187.13</td>\n",
       "      <td>48,702.27</td>\n",
       "      <td>44,017.17</td>\n",
       "      <td>53,858.56</td>\n",
       "    </tr>\n",
       "    <tr>\n",
       "      <th>7</th>\n",
       "      <td>530,095,365.90</td>\n",
       "      <td>60,616.97</td>\n",
       "      <td>53,861.20</td>\n",
       "      <td>68,532.98</td>\n",
       "    </tr>\n",
       "    <tr>\n",
       "      <th>8</th>\n",
       "      <td>671,463,060.63</td>\n",
       "      <td>80,280.14</td>\n",
       "      <td>68,533.46</td>\n",
       "      <td>96,103.06</td>\n",
       "    </tr>\n",
       "    <tr>\n",
       "      <th>9</th>\n",
       "      <td>1,261,415,144.96</td>\n",
       "      <td>160,792.24</td>\n",
       "      <td>96,106.98</td>\n",
       "      <td>10,702,107.40</td>\n",
       "    </tr>\n",
       "  </tbody>\n",
       "</table>\n",
       "</div>"
      ],
      "text/plain": [
       "               ing_cor                                   \n",
       "                   sum       mean       min           max\n",
       "decil                                                    \n",
       "0        95,098,660.47   9,911.27      0.00     13,955.40\n",
       "1       161,067,415.31  16,888.69 13,955.50     19,665.67\n",
       "2       205,662,374.23  22,260.24 19,666.25     24,885.24\n",
       "3       248,423,474.86  27,565.85 24,885.24     30,325.61\n",
       "4       302,578,396.92  33,364.03 30,326.07     36,623.02\n",
       "5       350,460,356.82  40,112.21 36,623.84     44,016.79\n",
       "6       431,648,187.13  48,702.27 44,017.17     53,858.56\n",
       "7       530,095,365.90  60,616.97 53,861.20     68,532.98\n",
       "8       671,463,060.63  80,280.14 68,533.46     96,103.06\n",
       "9     1,261,415,144.96 160,792.24 96,106.98 10,702,107.40"
      ]
     },
     "execution_count": 23,
     "metadata": {},
     "output_type": "execute_result"
    }
   ],
   "source": [
    "concentrado.groupby(by='decil').agg({'ing_cor': ['sum', 'mean', 'min','max']})"
   ]
  },
  {
   "cell_type": "code",
   "execution_count": 31,
   "id": "e9dc9efd",
   "metadata": {},
   "outputs": [],
   "source": [
    "deciles_final.to_excel(outputs + 'data/deciles_desagregado.xlsx')"
   ]
  },
  {
   "cell_type": "code",
   "execution_count": null,
   "id": "26dcb179",
   "metadata": {},
   "outputs": [],
   "source": []
  }
 ],
 "metadata": {
  "kernelspec": {
   "display_name": "Python 3 (ipykernel)",
   "language": "python",
   "name": "python3"
  },
  "language_info": {
   "codemirror_mode": {
    "name": "ipython",
    "version": 3
   },
   "file_extension": ".py",
   "mimetype": "text/x-python",
   "name": "python",
   "nbconvert_exporter": "python",
   "pygments_lexer": "ipython3",
   "version": "3.9.5"
  }
 },
 "nbformat": 4,
 "nbformat_minor": 5
}
