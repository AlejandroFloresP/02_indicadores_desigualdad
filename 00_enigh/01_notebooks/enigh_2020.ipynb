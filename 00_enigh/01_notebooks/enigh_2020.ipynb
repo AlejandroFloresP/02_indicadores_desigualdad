{
 "cells": [
  {
   "cell_type": "markdown",
   "id": "f0e630e5",
   "metadata": {},
   "source": [
    "# Calculo de principales indicadores usando python\n",
    "\n",
    "A continuación se presentan los coódigos para el cálculo de los principales indicadores de la ENIGH 2020. Estan escritos para que el usuario los ejecute sin necesidad de cambio.\n",
    "\n",
    "Para realizar este ejercicio solo seran necesatios los módulos de **pandas** y **numpy**"
   ]
  },
  {
   "cell_type": "markdown",
   "id": "91889c67",
   "metadata": {},
   "source": [
    "## Set-up"
   ]
  },
  {
   "cell_type": "code",
   "execution_count": 1,
   "id": "469903e6",
   "metadata": {},
   "outputs": [],
   "source": [
    "# Importamos librerias que vamos a utilizar\n",
    "import pandas as pd\n",
    "import os\n",
    "\n",
    "pd.options.display.float_format = '{:,.2f}'.format"
   ]
  },
  {
   "cell_type": "code",
   "execution_count": 2,
   "id": "0141fea9",
   "metadata": {},
   "outputs": [],
   "source": [
    "# Creamos directorios\n",
    "data = '/home/jovyan/work/02_indicadores_desigualdad/00_enigh/00_data/'\n",
    "outputs = '/home/jovyan/work/02_indicadores_desigualdad/00_enigh/03_outputs/'"
   ]
  },
  {
   "cell_type": "markdown",
   "id": "def88dbe",
   "metadata": {},
   "source": [
    "### Ejecutamos script con funciones necesarias"
   ]
  },
  {
   "cell_type": "code",
   "execution_count": 3,
   "id": "32160051",
   "metadata": {},
   "outputs": [],
   "source": [
    "%run 'functions.py' "
   ]
  },
  {
   "cell_type": "markdown",
   "id": "91fc6844",
   "metadata": {},
   "source": [
    "## Lectura de tablas de datos\n",
    "\n",
    "Para leer las tablas que necesitamos para el analisis, se creo una funcíon, **enigh**, que nos ayuda a traernos direcatmente de la pagina de la enigh la tabla del año que necesitemos, sin necesidad de guardar el arhivo en nuestro espacio de trabajo.\n",
    "\n",
    "En este ejercicio, tomaremos la tabla *concentrado hogar* del año *2020* y lo guardamos en un dataframe"
   ]
  },
  {
   "cell_type": "code",
   "execution_count": 4,
   "id": "6a910ebe",
   "metadata": {},
   "outputs": [],
   "source": [
    "df = enigh('concentradohogar','2020')"
   ]
  },
  {
   "cell_type": "markdown",
   "id": "ddc285de",
   "metadata": {},
   "source": [
    "___"
   ]
  },
  {
   "cell_type": "markdown",
   "id": "b9337eb6",
   "metadata": {},
   "source": [
    "## 2. Cálculo de indicadores de ingreso\n",
    "### 2.1. Ingreso corriente total promedio trimestral por hogar en deciiles de hogares y su coeficiente de GINI\n",
    "\n",
    "A continuación, se presenta el código que calcula el ingreso corriente total promedio por hogar en deciles de hogares y su coeficiente de GINI.\n",
    "El coeficiente de Gini es una medida de concentración del ingreso: toma valores entre cero y uno. Cuando el valor se acerca a uno, indica que hay mayor concentración del ingreso; en cambio cuando el valor del Gini se acerca a cero la concentración del ingreso es menor."
   ]
  },
  {
   "cell_type": "markdown",
   "id": "058fa956",
   "metadata": {},
   "source": [
    "<blockquote><div style=\"background-color:#DCDCDC; color:#000000; font-style: normal; font-family: Georgia;\">\n",
    "Folioviv (Folio de la vivienda):\n",
    "\n",
    "Consta de 10 dígitos: dos dígitos con la clave de la entidad federativa, uno con el ámbito (urbano, código diferente a 6; rural, código 6), cuatro dígitos del número consecutivo de la upm (unidad primaria de muestreo), un dígito de la decena de levantamiento y dos dígitos con un número consecutivo para la vivienda seleccionada.\n",
    "</div></blockquote>\n",
    "\n",
    "\n",
    "<blockquote><div style=\"background-color:#DCDCDC; color:#000000; font-style: normal; font-family: Georgia;\">\n",
    "Foliohog (Folio del hogar):\n",
    "\n",
    "Dígito para identificar a los hogares en la vivienda: se asigna 1 al hogar principal (el que inicialmente\n",
    "atendió la entrevista) o cuando en la vivienda solo habita un hogar; cuando se detecten varios hogares\n",
    "(hogares adicionales) se les asignan dígitos del 2 al 5.\n",
    "</div></blockquote>"
   ]
  },
  {
   "cell_type": "code",
   "execution_count": 5,
   "id": "22a079bf",
   "metadata": {},
   "outputs": [],
   "source": [
    "# Seleccionamos variables de interes\n",
    "\n",
    "concentrado = df[['folioviv', 'foliohog', 'ing_cor', 'ingtrab', 'trabajo',\n",
    "                  'negocio', 'otros_trab', 'rentas', 'utilidad', 'arrenda',\n",
    "                 'transfer', 'jubilacion', 'becas', 'donativos', 'remesas',\n",
    "                 'bene_gob', 'transf_hog', 'trans_inst', 'estim_alqu',\n",
    "                 'otros_ing', 'factor', 'upm', 'est_dis']]"
   ]
  },
  {
   "cell_type": "code",
   "execution_count": null,
   "id": "143d7561",
   "metadata": {},
   "outputs": [],
   "source": [
    "concentrado.info()"
   ]
  },
  {
   "cell_type": "code",
   "execution_count": 12,
   "id": "68b5d7e1",
   "metadata": {},
   "outputs": [
    {
     "name": "stderr",
     "output_type": "stream",
     "text": [
      "/opt/conda/lib/python3.9/site-packages/pandas/core/frame.py:3607: SettingWithCopyWarning: \n",
      "A value is trying to be set on a copy of a slice from a DataFrame.\n",
      "Try using .loc[row_indexer,col_indexer] = value instead\n",
      "\n",
      "See the caveats in the documentation: https://pandas.pydata.org/pandas-docs/stable/user_guide/indexing.html#returning-a-view-versus-a-copy\n",
      "  self._set_item(key, value)\n"
     ]
    }
   ],
   "source": [
    "# Se crea una variable de entidad federativa y de total de integrantes\n",
    "\n",
    "concentrado['entidad']=df.loc[:,('folioviv')].apply(str).str[1:3]\n",
    "concentrado['ing_cor']= df['ing_cor']* df['factor']\n",
    "concentrado['integrantes'] = df['tot_integ']* df['factor']"
   ]
  },
  {
   "cell_type": "code",
   "execution_count": 7,
   "id": "69d8586e",
   "metadata": {},
   "outputs": [
    {
     "name": "stdout",
     "output_type": "stream",
     "text": [
      "Total de Hogares:  35749659\n",
      "Tamaño de los deciles:  3574965.9\n",
      "Promedio de integrantes por familia: 3.55 \n"
     ]
    }
   ],
   "source": [
    "print('Total de Hogares: ', concentrado.factor.sum())\n",
    "\n",
    "print('Tamaño de los deciles: ',  concentrado.factor.sum()/10 )\n",
    "\n",
    "print('Promedio de integrantes por familia: {:.3} '.format(df.tot_integ.mean()))"
   ]
  },
  {
   "cell_type": "markdown",
   "id": "29a379c5",
   "metadata": {},
   "source": [
    "Para crear los deciles de ingreso, utilizamos la función *weighted_qcut* definida al inicio del notebook para obtener los deciles ponderados por el factor de expansión"
   ]
  },
  {
   "cell_type": "code",
   "execution_count": 8,
   "id": "5ac76fe2",
   "metadata": {},
   "outputs": [],
   "source": [
    "concentrado['decil']=weighted_qcut(concentrado['ing_cor'], concentrado['factor'], 10, labels=False)"
   ]
  },
  {
   "cell_type": "code",
   "execution_count": 13,
   "id": "28b44875",
   "metadata": {},
   "outputs": [
    {
     "data": {
      "text/html": [
       "<div>\n",
       "<style scoped>\n",
       "    .dataframe tbody tr th:only-of-type {\n",
       "        vertical-align: middle;\n",
       "    }\n",
       "\n",
       "    .dataframe tbody tr th {\n",
       "        vertical-align: top;\n",
       "    }\n",
       "\n",
       "    .dataframe thead tr th {\n",
       "        text-align: left;\n",
       "    }\n",
       "\n",
       "    .dataframe thead tr:last-of-type th {\n",
       "        text-align: right;\n",
       "    }\n",
       "</style>\n",
       "<table border=\"1\" class=\"dataframe\">\n",
       "  <thead>\n",
       "    <tr>\n",
       "      <th></th>\n",
       "      <th colspan=\"3\" halign=\"left\">ing_cor</th>\n",
       "      <th colspan=\"2\" halign=\"left\">integrantes</th>\n",
       "    </tr>\n",
       "    <tr>\n",
       "      <th></th>\n",
       "      <th>sum</th>\n",
       "      <th>min</th>\n",
       "      <th>max</th>\n",
       "      <th>sum</th>\n",
       "      <th>mean</th>\n",
       "    </tr>\n",
       "    <tr>\n",
       "      <th>decil</th>\n",
       "      <th></th>\n",
       "      <th></th>\n",
       "      <th></th>\n",
       "      <th></th>\n",
       "      <th></th>\n",
       "    </tr>\n",
       "  </thead>\n",
       "  <tbody>\n",
       "    <tr>\n",
       "      <th>0</th>\n",
       "      <td>35,524,500,228.01</td>\n",
       "      <td>0.00</td>\n",
       "      <td>56,298,642.20</td>\n",
       "      <td>9623550</td>\n",
       "      <td>1,002.98</td>\n",
       "    </tr>\n",
       "    <tr>\n",
       "      <th>1</th>\n",
       "      <td>60,283,958,149.91</td>\n",
       "      <td>170,633.76</td>\n",
       "      <td>63,577,207.56</td>\n",
       "      <td>10547718</td>\n",
       "      <td>1,105.98</td>\n",
       "    </tr>\n",
       "    <tr>\n",
       "      <th>2</th>\n",
       "      <td>79,626,976,368.50</td>\n",
       "      <td>237,540.72</td>\n",
       "      <td>83,607,027.13</td>\n",
       "      <td>11324441</td>\n",
       "      <td>1,225.72</td>\n",
       "    </tr>\n",
       "    <tr>\n",
       "      <th>3</th>\n",
       "      <td>98,510,524,833.61</td>\n",
       "      <td>249,381.30</td>\n",
       "      <td>149,082,934.52</td>\n",
       "      <td>12064775</td>\n",
       "      <td>1,338.75</td>\n",
       "    </tr>\n",
       "    <tr>\n",
       "      <th>4</th>\n",
       "      <td>119,296,646,868.68</td>\n",
       "      <td>316,325.30</td>\n",
       "      <td>179,699,223.12</td>\n",
       "      <td>12660011</td>\n",
       "      <td>1,395.97</td>\n",
       "    </tr>\n",
       "    <tr>\n",
       "      <th>5</th>\n",
       "      <td>143,370,324,397.34</td>\n",
       "      <td>368,829.10</td>\n",
       "      <td>200,037,814.68</td>\n",
       "      <td>13292577</td>\n",
       "      <td>1,521.41</td>\n",
       "    </tr>\n",
       "    <tr>\n",
       "      <th>6</th>\n",
       "      <td>173,947,987,535.87</td>\n",
       "      <td>448,364.70</td>\n",
       "      <td>183,228,204.55</td>\n",
       "      <td>14049753</td>\n",
       "      <td>1,585.21</td>\n",
       "    </tr>\n",
       "    <tr>\n",
       "      <th>7</th>\n",
       "      <td>216,690,070,387.21</td>\n",
       "      <td>557,061.30</td>\n",
       "      <td>323,592,107.16</td>\n",
       "      <td>14347363</td>\n",
       "      <td>1,640.64</td>\n",
       "    </tr>\n",
       "    <tr>\n",
       "      <th>8</th>\n",
       "      <td>287,555,799,573.02</td>\n",
       "      <td>760,313.70</td>\n",
       "      <td>319,580,779.84</td>\n",
       "      <td>14590067</td>\n",
       "      <td>1,744.39</td>\n",
       "    </tr>\n",
       "    <tr>\n",
       "      <th>9</th>\n",
       "      <td>583,734,001,302.97</td>\n",
       "      <td>1,014,807.80</td>\n",
       "      <td>7,192,058,041.30</td>\n",
       "      <td>14260601</td>\n",
       "      <td>1,817.79</td>\n",
       "    </tr>\n",
       "  </tbody>\n",
       "</table>\n",
       "</div>"
      ],
      "text/plain": [
       "                 ing_cor                               integrantes         \n",
       "                     sum          min              max         sum     mean\n",
       "decil                                                                      \n",
       "0      35,524,500,228.01         0.00    56,298,642.20     9623550 1,002.98\n",
       "1      60,283,958,149.91   170,633.76    63,577,207.56    10547718 1,105.98\n",
       "2      79,626,976,368.50   237,540.72    83,607,027.13    11324441 1,225.72\n",
       "3      98,510,524,833.61   249,381.30   149,082,934.52    12064775 1,338.75\n",
       "4     119,296,646,868.68   316,325.30   179,699,223.12    12660011 1,395.97\n",
       "5     143,370,324,397.34   368,829.10   200,037,814.68    13292577 1,521.41\n",
       "6     173,947,987,535.87   448,364.70   183,228,204.55    14049753 1,585.21\n",
       "7     216,690,070,387.21   557,061.30   323,592,107.16    14347363 1,640.64\n",
       "8     287,555,799,573.02   760,313.70   319,580,779.84    14590067 1,744.39\n",
       "9     583,734,001,302.97 1,014,807.80 7,192,058,041.30    14260601 1,817.79"
      ]
     },
     "execution_count": 13,
     "metadata": {},
     "output_type": "execute_result"
    }
   ],
   "source": [
    "concentrado.groupby(by='decil').agg({'ing_cor': ['sum','min', 'max'],\n",
    "                                    'integrantes': ['sum', 'mean']})"
   ]
  },
  {
   "cell_type": "code",
   "execution_count": 11,
   "id": "0594d52e",
   "metadata": {},
   "outputs": [],
   "source": [
    "# Exportamos a excel\n",
    "concentrado.groupby(by='decil').agg({'ing_cor': ['sum','min', 'max'],\n",
    "                                    'integrantes': ['sum', 'mean']}).to_excel(outputs + 'data/deciles.xlsx')"
   ]
  }
 ],
 "metadata": {
  "kernelspec": {
   "display_name": "Python 3 (ipykernel)",
   "language": "python",
   "name": "python3"
  },
  "language_info": {
   "codemirror_mode": {
    "name": "ipython",
    "version": 3
   },
   "file_extension": ".py",
   "mimetype": "text/x-python",
   "name": "python",
   "nbconvert_exporter": "python",
   "pygments_lexer": "ipython3",
   "version": "3.9.5"
  }
 },
 "nbformat": 4,
 "nbformat_minor": 5
}
